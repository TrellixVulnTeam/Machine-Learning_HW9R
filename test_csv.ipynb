{
 "cells": [
  {
   "cell_type": "code",
   "execution_count": null,
   "source": [
    "import cv2 as cv\r\n",
    "import sys\r\n",
    "img = cv.imread(\"C:/Users/LEGION/Desktop/XX.png\")\r\n",
    "if img is None:\r\n",
    "    sys.exit(\"Can't load\")\r\n",
    "cv.namedWindow(\"WINDOW_NORMAL\")\r\n",
    "cv.imshow(\"Display window\",img)\r\n",
    "key = cv.waitKey(0)\r\n",
    "if key == ord('s'):\r\n",
    "    sys.exit()"
   ],
   "outputs": [],
   "metadata": {}
  },
  {
   "cell_type": "code",
   "execution_count": 16,
   "source": [
    "import cv2 as cv\r\n",
    "\r\n",
    "cap = cv.VideoCapture(0)\r\n",
    "if not cap.isOpened():\r\n",
    "    print(\"Can't open camera\")\r\n",
    "else:\r\n",
    "    while True:\r\n",
    "        ret,frame = cap.read()\r\n",
    "        if not ret:\r\n",
    "            print(\"Can't receive frame\")\r\n",
    "            break\r\n",
    "        color = cv.cvtColor(frame,cv.COLOR_BGR2GRAY)\r\n",
    "        cv.imshow('frame',color)\r\n",
    "        if cv.waitKey(1) == ord('s'):\r\n",
    "            break\r\n",
    "cv.destroyAllWindows()"
   ],
   "outputs": [],
   "metadata": {}
  },
  {
   "cell_type": "code",
   "execution_count": 3,
   "source": [
    "import numpy as np\r\n",
    "import cv2 as cv\r\n",
    "# Create a black image\r\n",
    "img = np.zeros((512,512,3), np.uint8)\r\n",
    "# Draw a diagonal blue line with thickness of 5 px\r\n",
    "imag = cv.circle(img,(250,250), 50, (225,0,255), thickness=1) #(x,y),size,color\r\n",
    "cv.imshow(\"Hello\",imag)\r\n",
    "cv.waitKey()"
   ],
   "outputs": [
    {
     "output_type": "execute_result",
     "data": {
      "text/plain": [
       "-1"
      ]
     },
     "metadata": {},
     "execution_count": 3
    }
   ],
   "metadata": {}
  },
  {
   "cell_type": "code",
   "execution_count": 81,
   "source": [
    "import cv2 as cv\r\n",
    "imag = cv.imread(\"C:/Users/LEGION/Desktop/football.jpg\")\r\n",
    "imag = cv.resize(imag,(1080,720))\r\n",
    "ball = imag[470:660,575:765]\r\n",
    "imag[450:450+190,200:390] = ball\r\n",
    "border = cv.copyMakeBorder(imag,10,10,10,10,cv.BORDER_CONSTANT) #do day\r\n",
    "cv.imshow(\"ball\",border)\r\n",
    "cv.waitKey()\r\n",
    "cv.destroyAllWindows()"
   ],
   "outputs": [],
   "metadata": {}
  },
  {
   "cell_type": "code",
   "execution_count": 82,
   "source": [
    "import cv2\r\n",
    "facesDetect = cv2.CascadeClassifier(\"Resources/detectfaces.xml\")\r\n",
    "cap = cv2.VideoCapture(0)\r\n",
    "\r\n",
    "while True:\r\n",
    "    success, img = cap.read()\r\n",
    "    faces = facesDetect.detectMultiScale(img, 1.1, 10)\r\n",
    "    for (x,y,w,h) in faces:\r\n",
    "        cv2.rectangle(img, (x,y), (x+w, y+h), (0,255,255), 2)\r\n",
    "        cv2.putText(img, \"face\", (w, y+h), cv2.FONT_HERSHEY_COMPLEX, 0.7, (0,255,0), 2)\r\n",
    "\r\n",
    "    cv2.imshow(\"facesDetection\", img)\r\n",
    "    cv2.waitKey(1)\r\n"
   ],
   "outputs": [
    {
     "output_type": "error",
     "ename": "error",
     "evalue": "OpenCV(4.5.3) C:\\Users\\runneradmin\\AppData\\Local\\Temp\\pip-req-build-sn_xpupm\\opencv\\modules\\objdetect\\src\\cascadedetect.cpp:1689: error: (-215:Assertion failed) !empty() in function 'cv::CascadeClassifier::detectMultiScale'\n",
     "traceback": [
      "\u001b[1;31m---------------------------------------------------------------------------\u001b[0m",
      "\u001b[1;31merror\u001b[0m                                     Traceback (most recent call last)",
      "\u001b[1;32m~\\AppData\\Local\\Temp/ipykernel_17836/753172011.py\u001b[0m in \u001b[0;36m<module>\u001b[1;34m\u001b[0m\n\u001b[0;32m      5\u001b[0m \u001b[1;32mwhile\u001b[0m \u001b[1;32mTrue\u001b[0m\u001b[1;33m:\u001b[0m\u001b[1;33m\u001b[0m\u001b[1;33m\u001b[0m\u001b[0m\n\u001b[0;32m      6\u001b[0m     \u001b[0msuccess\u001b[0m\u001b[1;33m,\u001b[0m \u001b[0mimg\u001b[0m \u001b[1;33m=\u001b[0m \u001b[0mcap\u001b[0m\u001b[1;33m.\u001b[0m\u001b[0mread\u001b[0m\u001b[1;33m(\u001b[0m\u001b[1;33m)\u001b[0m\u001b[1;33m\u001b[0m\u001b[1;33m\u001b[0m\u001b[0m\n\u001b[1;32m----> 7\u001b[1;33m     \u001b[0mfaces\u001b[0m \u001b[1;33m=\u001b[0m \u001b[0mfacesDetect\u001b[0m\u001b[1;33m.\u001b[0m\u001b[0mdetectMultiScale\u001b[0m\u001b[1;33m(\u001b[0m\u001b[0mimg\u001b[0m\u001b[1;33m,\u001b[0m \u001b[1;36m1.1\u001b[0m\u001b[1;33m,\u001b[0m \u001b[1;36m10\u001b[0m\u001b[1;33m)\u001b[0m\u001b[1;33m\u001b[0m\u001b[1;33m\u001b[0m\u001b[0m\n\u001b[0m\u001b[0;32m      8\u001b[0m     \u001b[1;32mfor\u001b[0m \u001b[1;33m(\u001b[0m\u001b[0mx\u001b[0m\u001b[1;33m,\u001b[0m\u001b[0my\u001b[0m\u001b[1;33m,\u001b[0m\u001b[0mw\u001b[0m\u001b[1;33m,\u001b[0m\u001b[0mh\u001b[0m\u001b[1;33m)\u001b[0m \u001b[1;32min\u001b[0m \u001b[0mfaces\u001b[0m\u001b[1;33m:\u001b[0m\u001b[1;33m\u001b[0m\u001b[1;33m\u001b[0m\u001b[0m\n\u001b[0;32m      9\u001b[0m         \u001b[0mcv2\u001b[0m\u001b[1;33m.\u001b[0m\u001b[0mrectangle\u001b[0m\u001b[1;33m(\u001b[0m\u001b[0mimg\u001b[0m\u001b[1;33m,\u001b[0m \u001b[1;33m(\u001b[0m\u001b[0mx\u001b[0m\u001b[1;33m,\u001b[0m\u001b[0my\u001b[0m\u001b[1;33m)\u001b[0m\u001b[1;33m,\u001b[0m \u001b[1;33m(\u001b[0m\u001b[0mx\u001b[0m\u001b[1;33m+\u001b[0m\u001b[0mw\u001b[0m\u001b[1;33m,\u001b[0m \u001b[0my\u001b[0m\u001b[1;33m+\u001b[0m\u001b[0mh\u001b[0m\u001b[1;33m)\u001b[0m\u001b[1;33m,\u001b[0m \u001b[1;33m(\u001b[0m\u001b[1;36m0\u001b[0m\u001b[1;33m,\u001b[0m\u001b[1;36m255\u001b[0m\u001b[1;33m,\u001b[0m\u001b[1;36m255\u001b[0m\u001b[1;33m)\u001b[0m\u001b[1;33m,\u001b[0m \u001b[1;36m2\u001b[0m\u001b[1;33m)\u001b[0m\u001b[1;33m\u001b[0m\u001b[1;33m\u001b[0m\u001b[0m\n",
      "\u001b[1;31merror\u001b[0m: OpenCV(4.5.3) C:\\Users\\runneradmin\\AppData\\Local\\Temp\\pip-req-build-sn_xpupm\\opencv\\modules\\objdetect\\src\\cascadedetect.cpp:1689: error: (-215:Assertion failed) !empty() in function 'cv::CascadeClassifier::detectMultiScale'\n"
     ]
    }
   ],
   "metadata": {}
  }
 ],
 "metadata": {
  "orig_nbformat": 4,
  "language_info": {
   "name": "python",
   "version": "3.9.6",
   "mimetype": "text/x-python",
   "codemirror_mode": {
    "name": "ipython",
    "version": 3
   },
   "pygments_lexer": "ipython3",
   "nbconvert_exporter": "python",
   "file_extension": ".py"
  },
  "kernelspec": {
   "name": "python3",
   "display_name": "Python 3.9.6 64-bit (windows store)"
  },
  "interpreter": {
   "hash": "4487d6265a4d215826efece1ae69f5cd9ee427281043ec0c0dad4e74d115c1b4"
  }
 },
 "nbformat": 4,
 "nbformat_minor": 2
}