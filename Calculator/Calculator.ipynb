{
 "cells": [
  {
   "cell_type": "code",
   "execution_count": 1,
   "metadata": {},
   "outputs": [],
   "source": [
    "from tkinter import *\n",
    "import regex as re\n",
    "from tkinter import messagebox\n",
    "import math"
   ]
  },
  {
   "cell_type": "code",
   "execution_count": 2,
   "metadata": {},
   "outputs": [],
   "source": [
    "def create_button(root,text,width,height,fuction = lambda x: input.insert(END,x)):\n",
    "    return Button(root,text = text,command = lambda: fuction(text),width = width,height = height)"
   ]
  },
  {
   "cell_type": "code",
   "execution_count": 3,
   "metadata": {},
   "outputs": [],
   "source": [
    "def out(input):\n",
    "    arr_num = input.get()\n",
    "    input.delete(0,END)\n",
    "    try:\n",
    "        result = eval(arr_num)\n",
    "        input.insert(END,eval(arr_num))\n",
    "    except SyntaxError:\n",
    "        messagebox.showerror(\"ERROR\",\"Nhập sai!!!\")\n",
    "        "
   ]
  },
  {
   "cell_type": "code",
   "execution_count": 5,
   "metadata": {},
   "outputs": [],
   "source": [
    "root = Tk()\n",
    "root.title(\"Calculator\")\n",
    "width = 400\n",
    "height = 600\n",
    "root.geometry(\"{}x{}\".format(width,height))\n",
    "ix = 0\n",
    "iy = 50\n",
    "input = Entry(root)\n",
    "input.place(x= 0,y= 0,height=45,width = 250)\n",
    "\n",
    "insert = lambda x: input.insert(END,x)\n",
    "button1 = create_button(root,1,5,3)\n",
    "button1.place(x = 0,y = 150)\n",
    "button2 = create_button(root,2,5,3)\n",
    "button2.place(x = 50,y = 150)\n",
    "button3 = create_button(root,3,5,3)\n",
    "button3.place(x = 100,y = 150)\n",
    "button4= create_button(root,4,5,3)\n",
    "button4.place(x = 0,y = 100)\n",
    "button5 = create_button(root,5,5,3)\n",
    "button5.place(x = 50,y = 100)\n",
    "button6 = create_button(root,6,5,3)\n",
    "button6.place(x = 100,y = 100)\n",
    "button7 = create_button(root,7,5,3)\n",
    "button7.place(x = 0,y = 50)\n",
    "button8 = create_button(root,8,5,3)\n",
    "button8.place(x = 50,y = 50)\n",
    "button9 = create_button(root,9,5,3)\n",
    "button9.place(x = 100,y = 50)\n",
    "button0 = create_button(root,0,5,3)\n",
    "button0.place(x = 0,y=200)\n",
    "\n",
    "\n",
    "output = create_button(root,'=',5,3,lambda x: out(input))\n",
    "output.place(x = 100,y=200)\n",
    "\n",
    "button_dot = create_button(root,'.',5,3)\n",
    "button_dot.place(x = 50,y= 200 )\n",
    "button_plus = create_button(root,'+',5,3)\n",
    "button_plus.place(x = 150,y=150)\n",
    "button_minus = create_button(root,'-',5,3)\n",
    "button_minus.place(x = 200,y=150)\n",
    "button_multi = create_button(root,'*',5,3)\n",
    "button_multi.place(x = 150,y=100)\n",
    "button_divide = create_button(root,'/',5,3)\n",
    "button_divide.place(x = 200,y=100)\n",
    "\n",
    "bracket_left_button = create_button(root,'(',5,3)\n",
    "bracket_left_button.place(x = 150,y = 50)\n",
    "bracket_right_button = create_button(root,')',5,3)\n",
    "bracket_right_button.place(x = 200,y = 50)\n",
    "\n",
    "AC_button = create_button(root,'AC',5,3,lambda x:input.delete(0,END))\n",
    "AC_button.place(x = 250,y=100)\n",
    "\n",
    "button_delete = create_button(root,'Del',5,3,lambda x: input.delete(len(input.get())-1,END))\n",
    "button_delete.place(x = 250,y = 50)"
   ]
  },
  {
   "cell_type": "code",
   "execution_count": 6,
   "metadata": {},
   "outputs": [],
   "source": [
    "root.mainloop()"
   ]
  }
 ],
 "metadata": {
  "interpreter": {
   "hash": "4487d6265a4d215826efece1ae69f5cd9ee427281043ec0c0dad4e74d115c1b4"
  },
  "kernelspec": {
   "display_name": "Python 3.9.8 64-bit (windows store)",
   "language": "python",
   "name": "python3"
  },
  "language_info": {
   "codemirror_mode": {
    "name": "ipython",
    "version": 3
   },
   "file_extension": ".py",
   "mimetype": "text/x-python",
   "name": "python",
   "nbconvert_exporter": "python",
   "pygments_lexer": "ipython3",
   "version": "3.9.8"
  },
  "orig_nbformat": 4
 },
 "nbformat": 4,
 "nbformat_minor": 2
}
